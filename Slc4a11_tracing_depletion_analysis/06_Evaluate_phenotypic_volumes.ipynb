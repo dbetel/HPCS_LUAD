{
 "cells": [
  {
   "cell_type": "markdown",
   "metadata": {},
   "source": [
    "## 06 - Evaluate Phenotypic Volume\n",
    "Combine data from traced cohorts (IGO15600, IGO15601, IGO15771, IGO16686, IGO17402, IGO17543) and non-traced cohorts (IGO15488_1_2, IGO16318) to evaluate phenotypic diversity.\n",
    "\n",
    "8/26/2025 - Reran with latest libraries to ensure consistency"
   ]
  },
  {
   "cell_type": "code",
   "execution_count": 1,
   "metadata": {},
   "outputs": [],
   "source": [
    "import numpy as np\n",
    "import pandas as pd\n",
    "import scanpy as sc\n",
    "from joblib import dump, load\n",
    "\n",
    "import math\n",
    "import matplotlib\n",
    "from matplotlib import pyplot as plt\n",
    "\n",
    "from pathlib import Path\n",
    "import anndata"
   ]
  },
  {
   "cell_type": "code",
   "execution_count": 2,
   "metadata": {},
   "outputs": [],
   "source": [
    "plt.rcParams['svg.fonttype'] = 'none'\n",
    "plt.rcParams[\"font.family\"] = \"Arial\"\n",
    "#plt.rcParams['figure.figsize'] = (3,4)"
   ]
  },
  {
   "cell_type": "code",
   "execution_count": 3,
   "metadata": {
    "scrolled": true
   },
   "outputs": [],
   "source": [
    "sc.settings.verbosity = 3             # verbosity: errors (0), warnings (1), info (2), hints (3)\n",
    "sc.logging.print_header()\n",
    "sc.settings.set_figure_params(dpi=80, facecolor='white')\n",
    "np.random.seed(1573)   #fix so we can reproduce later"
   ]
  },
  {
   "cell_type": "code",
   "execution_count": 4,
   "metadata": {},
   "outputs": [],
   "source": [
    "Path(\"./figures\").mkdir(parents=True, exist_ok=True) # generate figures here\n",
    "Path(\"./write\").mkdir(parents=True, exist_ok=True) # write h5ad here"
   ]
  },
  {
   "cell_type": "code",
   "execution_count": 5,
   "metadata": {},
   "outputs": [],
   "source": [
    "# Score Cluster 5 cells\n",
    "import csv\n",
    "clusters = {}\n",
    "clusterkeys = []\n",
    "HPCS = False\n",
    "\n",
    "def resetClusters(hpcs = 'cell2020'):\n",
    "    clusters = {}\n",
    "    clusterkeys = []\n",
    "    HPCS = False\n",
    "    try:\n",
    "        if hpcs == 'cell2020':         \n",
    "            with open('../common_files/clusters_cell2020.csv',encoding='utf-8-sig') as csvfile:\n",
    "                csvreader = csv.reader(csvfile, delimiter=\",\")\n",
    "                for row in csvreader:\n",
    "                    clusters[row[0]] = [x for x in row[1:] if x != '']\n",
    "            for i in range(1,13):\n",
    "                #if i == 9: continue\n",
    "                clusterkeys.append('Cluster %i' % i)\n",
    "            HPCS = 'Cluster 5'\n",
    "        else:\n",
    "            raise ValueError\n",
    "    except ValueError:\n",
    "        print(\"%s is an invalid choice\" % hpcs)\n",
    "        raise\n",
    "    return (clusters, clusterkeys, HPCS)\n",
    "\n",
    "(clusters, clusterkeys, HPCS) = resetClusters('cell2020')"
   ]
  },
  {
   "cell_type": "code",
   "execution_count": 6,
   "metadata": {},
   "outputs": [],
   "source": [
    "(clusters, clusterkeys, HPCS) = resetClusters('cell2020')"
   ]
  },
  {
   "cell_type": "code",
   "execution_count": 7,
   "metadata": {},
   "outputs": [],
   "source": [
    "def scoreAndPlot(ad, excludeList = None, groupby=\"Classification\",rotation=90,numgenes=25,ctlgenes=25):\n",
    "    #cmap = 'Reds' #colormap\n",
    "    cmap = 'jet' #colormap\n",
    "    if excludeList == None:\n",
    "        for i in clusterkeys:\n",
    "            if (numgenes > ctlgenes):\n",
    "                ctlgenes = numgenes\n",
    "            sc.tl.score_genes(ad, clusters[i][0:numgenes],score_name=\"%s\" % i, ctrl_size=ctlgenes)\n",
    "  \n",
    "        sc.pl.umap(ad, color=clusterkeys, color_map=cmap)\n",
    "        sc.pl.dotplot(ad, clusterkeys, groupby=groupby, swap_axes=True)"
   ]
  },
  {
   "cell_type": "code",
   "execution_count": 8,
   "metadata": {},
   "outputs": [],
   "source": [
    "from scipy.stats import ranksums\n",
    "\n",
    "def HPCSViolinPlot(ad, cluster='0', groupby='leiden', score='Cluster5', save=None, singleGene=False):\n",
    "    ad.obs['Cl5'] = 'not HPCS'\n",
    "    ad.obs.loc[ad.obs[groupby].isin([cluster]), 'Cl5'] = 'HPCS'\n",
    "\n",
    "    if singleGene:\n",
    "        pvalue = ranksums(ad[ad.obs['Cl5'].isin(['HPCS'])][:,score].X.toarray(),ad[~ad.obs['Cl5'].isin(['HPCS'])][:,score].X.toarray())[1]\n",
    "    else:\n",
    "        pvalue = ranksums(ad[ad.obs['Cl5'].isin(['HPCS'])].obs[score],ad[ad.obs['Cl5'].isin(['not HPCS'])].obs[score])[1]\n",
    "    sc.pl.violin(ad, score, groupby='Cl5', xlabel = 'p = ' + str(pvalue), save=save)"
   ]
  },
  {
   "cell_type": "markdown",
   "metadata": {},
   "source": [
    "## Define cells to be only traced cells for PV calculation"
   ]
  },
  {
   "cell_type": "code",
   "execution_count": 9,
   "metadata": {},
   "outputs": [],
   "source": [
    "adata = anndata.read_h5ad('write/combined_data.h5ad')"
   ]
  },
  {
   "cell_type": "code",
   "execution_count": 10,
   "metadata": {},
   "outputs": [],
   "source": [
    "#Ensure PV is using only same variables across all cells and batches\n",
    "non_zero_vars = adata.var_names[np.all(adata.X != 0, axis=0)]\n",
    "adata = adata[:, non_zero_vars]\n",
    "adata = adata[:, adata.var.highly_variable]"
   ]
  },
  {
   "cell_type": "code",
   "execution_count": 11,
   "metadata": {},
   "outputs": [],
   "source": [
    "#Phenotypic Volume\n",
    "def calcPV(matrix):\n",
    "    gene_cov = np.cov(matrix.T)\n",
    "    mat = pd.DataFrame(gene_cov)\n",
    "    eig_vals = np.linalg.eigvalsh(mat)\n",
    "    return(sum(np.log2(eig_vals[eig_vals > 0])))"
   ]
  },
  {
   "cell_type": "raw",
   "metadata": {},
   "source": [
    "#uncomment below if you want to generate data for Fig 2e"
   ]
  },
  {
   "cell_type": "code",
   "execution_count": 12,
   "metadata": {},
   "outputs": [
    {
     "data": {
      "text/plain": [
       "Group\n",
       "Saline                10660\n",
       "Hopx_GFP+mScarlet+     5660\n",
       "Hopx_GFP+mScarlet-     4846\n",
       "KPT                    1903\n",
       "Hopx_12wk3d            1226\n",
       "14wk                    991\n",
       "Hopx_12wk14d            911\n",
       "12wk_3d                 877\n",
       "8wk                     742\n",
       "6wk_3d                  586\n",
       "Name: count, dtype: int64"
      ]
     },
     "execution_count": 12,
     "metadata": {},
     "output_type": "execute_result"
    }
   ],
   "source": [
    "adata.obs.Group.value_counts()"
   ]
  },
  {
   "cell_type": "markdown",
   "metadata": {},
   "source": [
    "## 14 wk PV"
   ]
  },
  {
   "cell_type": "code",
   "execution_count": 13,
   "metadata": {
    "scrolled": true
   },
   "outputs": [],
   "source": [
    "from scipy.stats import mannwhitneyu"
   ]
  },
  {
   "cell_type": "code",
   "execution_count": 14,
   "metadata": {},
   "outputs": [],
   "source": [
    "repeats = 1000"
   ]
  },
  {
   "cell_type": "code",
   "execution_count": 15,
   "metadata": {},
   "outputs": [],
   "source": [
    "matrix = adata[adata.obs['Group'].isin(['12wk_3d']),adata.var['highly_variable']].X.copy()\n",
    "dist1 = []\n",
    "for x in range(0,repeats):\n",
    "    sample_id = np.random.choice(matrix.shape[0],100)\n",
    "    dist1.append(calcPV(matrix[sample_id]))"
   ]
  },
  {
   "cell_type": "code",
   "execution_count": 16,
   "metadata": {},
   "outputs": [],
   "source": [
    "matrix = adata[adata.obs['cell type'].isin(['HPCS']) & adata.obs['Group'].isin(['14wk']),adata.var['highly_variable']].X.copy()\n",
    "dist2 = []\n",
    "for x in range(0,repeats):\n",
    "    sample_id = np.random.choice(matrix.shape[0],100)\n",
    "    dist2.append(calcPV(matrix[sample_id]))"
   ]
  },
  {
   "cell_type": "code",
   "execution_count": 17,
   "metadata": {},
   "outputs": [],
   "source": [
    "matrix = adata[adata.obs['Group'].isin(['14wk']),adata.var['highly_variable']].X.copy()\n",
    "dist3 = []\n",
    "for x in range(0,repeats):\n",
    "    sample_id = np.random.choice(matrix.shape[0],100)\n",
    "    dist3.append(calcPV(matrix[sample_id]))"
   ]
  },
  {
   "cell_type": "code",
   "execution_count": 18,
   "metadata": {},
   "outputs": [],
   "source": [
    "matrix = adata[adata.obs['batch'].isin(['untraced_14wk']),adata.var['highly_variable']].X.copy()\n",
    "dist4 = []\n",
    "for x in range(0,repeats):\n",
    "    sample_id = np.random.choice(matrix.shape[0],100)\n",
    "    dist4.append(calcPV(matrix[sample_id]))"
   ]
  },
  {
   "cell_type": "code",
   "execution_count": 19,
   "metadata": {},
   "outputs": [],
   "source": [
    "matrix = adata[adata.obs['Group'].isin(['Hopx_12wk3d']),adata.var['highly_variable']].X.copy()\n",
    "dist5 = []\n",
    "for x in range(0,repeats):\n",
    "    sample_id = np.random.choice(matrix.shape[0],100)\n",
    "    dist5.append(calcPV(matrix[sample_id]))"
   ]
  },
  {
   "cell_type": "code",
   "execution_count": 20,
   "metadata": {},
   "outputs": [],
   "source": [
    "matrix = adata[adata.obs['Group'].isin(['Hopx_12wk14d']),adata.var['highly_variable']].X.copy()\n",
    "dist6 = []\n",
    "for x in range(0,repeats):\n",
    "    sample_id = np.random.choice(matrix.shape[0],100)\n",
    "    dist6.append(calcPV(matrix[sample_id]))"
   ]
  },
  {
   "cell_type": "code",
   "execution_count": 21,
   "metadata": {},
   "outputs": [],
   "source": [
    "matrix = adata[adata.obs['cell type'].isin(['AT1-like']) & adata.obs['Group'].isin(['Hopx_12wk14d']),adata.var['highly_variable']].X.copy()\n",
    "dist7 = []\n",
    "for x in range(0,repeats):\n",
    "    sample_id = np.random.choice(matrix.shape[0],100)\n",
    "    dist7.append(calcPV(matrix[sample_id]))"
   ]
  },
  {
   "cell_type": "code",
   "execution_count": 22,
   "metadata": {},
   "outputs": [],
   "source": [
    "matrix = adata[adata.obs['cell type'].isin(['HPCS']) & adata.obs['Group'].isin(['Hopx_12wk14d']),adata.var['highly_variable']].X.copy()\n",
    "dist8 = []\n",
    "for x in range(0,repeats):\n",
    "    sample_id = np.random.choice(matrix.shape[0],100)\n",
    "    dist8.append(calcPV(matrix[sample_id]))"
   ]
  },
  {
   "cell_type": "code",
   "execution_count": 23,
   "metadata": {},
   "outputs": [],
   "source": [
    "matrix = adata[adata.obs['cell type'].isin(['AT1-like']) & adata.obs['Group'].isin(['14wk']),adata.var['highly_variable']].X.copy()\n",
    "dist9 = []\n",
    "for x in range(0,repeats):\n",
    "    sample_id = np.random.choice(matrix.shape[0],100)\n",
    "    dist9.append(calcPV(matrix[sample_id]))"
   ]
  },
  {
   "cell_type": "code",
   "execution_count": 24,
   "metadata": {},
   "outputs": [],
   "source": [
    "pd.DataFrame(np.column_stack((dist1,dist2,dist9,dist3,dist4,dist5,dist6,dist7,dist8)),columns=['All@12wk_3d','HPCS@14wk','AT1-like@14wk','All@14wk','Untraced@14wk','Hopx_12wk_3d','Hopx_12wk_14d','AT1-like@Hopx12wk_14d','HPCS@Hopx12wk_14d']).to_excel('figures/Fig2e_PV_hpcs_14wk_Hopx_combined.xlsx')"
   ]
  },
  {
   "cell_type": "markdown",
   "metadata": {},
   "source": [
    "## 8 wk PV"
   ]
  },
  {
   "cell_type": "code",
   "execution_count": 25,
   "metadata": {},
   "outputs": [],
   "source": [
    "matrix = adata[adata.obs['Group'].isin(['6wk_3d']),adata.var['highly_variable']].X.copy()\n",
    "dist10 = []\n",
    "for x in range(0,repeats):\n",
    "    sample_id = np.random.choice(matrix.shape[0],100)\n",
    "    dist10.append(calcPV(matrix[sample_id]))"
   ]
  },
  {
   "cell_type": "code",
   "execution_count": 26,
   "metadata": {},
   "outputs": [],
   "source": [
    "matrix = adata[adata.obs['cell type'].isin(['HPCS']) & adata.obs['Group'].isin(['8wk']),adata.var['highly_variable']].X.copy()\n",
    "dist11 = []\n",
    "for x in range(0,repeats):\n",
    "    sample_id = np.random.choice(matrix.shape[0],100)\n",
    "    dist11.append(calcPV(matrix[sample_id]))"
   ]
  },
  {
   "cell_type": "code",
   "execution_count": 27,
   "metadata": {},
   "outputs": [],
   "source": [
    "matrix = adata[adata.obs['cell type'].isin(['AT1-like']) & adata.obs['Group'].isin(['8wk']),adata.var['highly_variable']].X.copy()\n",
    "dist12 = []\n",
    "for x in range(0,repeats):\n",
    "    sample_id = np.random.choice(matrix.shape[0],100)\n",
    "    dist12.append(calcPV(matrix[sample_id]))"
   ]
  },
  {
   "cell_type": "code",
   "execution_count": 28,
   "metadata": {},
   "outputs": [],
   "source": [
    "matrix = adata[adata.obs['Group'].isin(['8wk']),adata.var['highly_variable']].X.copy()\n",
    "dist13 = []\n",
    "for x in range(0,repeats):\n",
    "    sample_id = np.random.choice(matrix.shape[0],100)\n",
    "    dist13.append(calcPV(matrix[sample_id]))"
   ]
  },
  {
   "cell_type": "code",
   "execution_count": 29,
   "metadata": {},
   "outputs": [],
   "source": [
    "pd.DataFrame(np.column_stack((dist10,dist11,dist12,dist13)),columns=['All@6wk_3d','HPCS@8wk','AT1-like','All@8wk']).to_excel('figures/Fig2e_PV_hpcs_8wk_combined.xlsx')"
   ]
  },
  {
   "cell_type": "markdown",
   "metadata": {},
   "source": [
    "## For Revision"
   ]
  },
  {
   "cell_type": "code",
   "execution_count": 30,
   "metadata": {},
   "outputs": [],
   "source": [
    "adata = adata[adata.obs.Group.isin(['KPT']),:]"
   ]
  },
  {
   "cell_type": "code",
   "execution_count": 31,
   "metadata": {},
   "outputs": [
    {
     "name": "stdout",
     "output_type": "stream",
     "text": [
      "   Classification cell type  proportion\n",
      "1    BB1053_B0314      HPCS    0.193548\n",
      "8    BD1959_B0303      HPCS    0.167832\n",
      "16   BF1607_B0303      HPCS    0.167364\n",
      "HPCS mean: 0.17624819055511456 +/- 0.014984238106996147\n"
     ]
    },
    {
     "name": "stderr",
     "output_type": "stream",
     "text": [
      "/var/folders/xc/wjwqs2j55dqgp2ghrn6nmlj1nlk7kz/T/ipykernel_34791/4026536791.py:3: FutureWarning: The default of observed=False is deprecated and will be changed to True in a future version of pandas. Pass observed=False to retain current behavior or observed=True to adopt the future default and silence this warning.\n",
      "  counts = adata.obs.groupby('Classification')['cell type'].value_counts(normalize=True).reset_index()\n"
     ]
    }
   ],
   "source": [
    "# Response to Reviewer 1 Point 1: How frequent is the HPCS in untraced cells\n",
    "# Count within each cell type\n",
    "counts = adata.obs.groupby('Classification')['cell type'].value_counts(normalize=True).reset_index()\n",
    "print(counts[counts['cell type'] == 'HPCS'])\n",
    "print(f'HPCS mean: {counts[counts[\"cell type\"] == \"HPCS\"][\"proportion\"].mean()} +/- {counts[counts[\"cell type\"] == \"HPCS\"][\"proportion\"].std()}')"
   ]
  }
 ],
 "metadata": {
  "anaconda-cloud": {},
  "kernelspec": {
   "display_name": "Python 3 (ipykernel)",
   "language": "python",
   "name": "python3"
  },
  "language_info": {
   "codemirror_mode": {
    "name": "ipython",
    "version": 3
   },
   "file_extension": ".py",
   "mimetype": "text/x-python",
   "name": "python",
   "nbconvert_exporter": "python",
   "pygments_lexer": "ipython3",
   "version": "3.11.7"
  }
 },
 "nbformat": 4,
 "nbformat_minor": 4
}
