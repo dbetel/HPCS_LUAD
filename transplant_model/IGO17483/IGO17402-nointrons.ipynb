{
 "cells": [
  {
   "cell_type": "markdown",
   "metadata": {},
   "source": [
    "## IGO17402 - KP R26-mTmG; Slc4a11-MCD mice exposed to Tamoxifen for 3d at 6 weeks and Hopx-MACD exposed to Tamoxifen for 3d at 12 weeks\n",
    "6/24/2025 - Data generated from 6 week KP Slc4a11-MCD/+ Rosa26 mTmG/+ tumors and KP Hopx-MACD/+ Rosa26 mTmG/+ tumors; data submitted by CHP/EB on 6/3/2025, analyzed by JC 6/24/2025\n",
    "\n",
    "Analyze global run on cellranger v8 data and create h5_ad files for further analysis - w/o introns."
   ]
  },
  {
   "cell_type": "code",
   "execution_count": 1,
   "metadata": {},
   "outputs": [],
   "source": [
    "import numpy as np\n",
    "import pandas as pd\n",
    "import scanpy as sc\n",
    "\n",
    "import math\n",
    "import matplotlib\n",
    "from matplotlib import pyplot as plt\n",
    "\n",
    "from pathlib import Path\n",
    "import anndata"
   ]
  },
  {
   "cell_type": "code",
   "execution_count": 2,
   "metadata": {
    "scrolled": true
   },
   "outputs": [],
   "source": [
    "sc.settings.verbosity = 3             # verbosity: errors (0), warnings (1), info (2), hints (3)\n",
    "sc.logging.print_header()\n",
    "sc.settings.set_figure_params(dpi=80, facecolor='white')\n",
    "np.random.seed(1573)   #fix so we can reproduce later"
   ]
  },
  {
   "cell_type": "code",
   "execution_count": 3,
   "metadata": {},
   "outputs": [],
   "source": [
    "plt.rcParams['svg.fonttype'] = 'none'\n",
    "plt.rcParams[\"font.family\"] = \"Arial\"\n",
    "#plt.rcParams['figure.figsize'] = (3,4)"
   ]
  },
  {
   "cell_type": "code",
   "execution_count": 4,
   "metadata": {},
   "outputs": [],
   "source": [
    "#Path(\"./figures/umapfigures\").mkdir(parents=True, exist_ok=True) # generate figures here\n",
    "Path(\"./write\").mkdir(parents=True, exist_ok=True) # write h5ad here"
   ]
  },
  {
   "cell_type": "code",
   "execution_count": 5,
   "metadata": {},
   "outputs": [],
   "source": [
    "results_file = 'write/IGO17402-KP6wkmTmG3dTraced.h5ad'  # the file that will store the analysis results"
   ]
  },
  {
   "cell_type": "markdown",
   "metadata": {},
   "source": [
    "Read in the count matrix into an [`AnnData`](https://anndata.readthedocs.io/en/latest/anndata.AnnData.html) object, which holds many slots for annotations and different representations of the data. It also comes with its own HDF5 file format: `.h5ad`."
   ]
  },
  {
   "cell_type": "code",
   "execution_count": 6,
   "metadata": {
    "scrolled": true
   },
   "outputs": [
    {
     "name": "stdout",
     "output_type": "stream",
     "text": [
      "reading GSE277777_IGO17402-filtered_feature_bc_matrix.h5\n"
     ]
    },
    {
     "ename": "FileNotFoundError",
     "evalue": "[Errno 2] Unable to synchronously open file (unable to open file: name = 'GSE277777_IGO17402-filtered_feature_bc_matrix.h5', errno = 2, error message = 'No such file or directory', flags = 0, o_flags = 0)",
     "output_type": "error",
     "traceback": [
      "\u001b[31m---------------------------------------------------------------------------\u001b[39m",
      "\u001b[31mFileNotFoundError\u001b[39m                         Traceback (most recent call last)",
      "\u001b[36mCell\u001b[39m\u001b[36m \u001b[39m\u001b[32mIn[6]\u001b[39m\u001b[32m, line 1\u001b[39m\n\u001b[32m----> \u001b[39m\u001b[32m1\u001b[39m adata = \u001b[43msc\u001b[49m\u001b[43m.\u001b[49m\u001b[43mread_10x_h5\u001b[49m\u001b[43m(\u001b[49m\u001b[33;43m'\u001b[39;49m\u001b[33;43mGSE277777_IGO17402-filtered_feature_bc_matrix.h5\u001b[39;49m\u001b[33;43m'\u001b[39;49m\u001b[43m,\u001b[49m\u001b[43m \u001b[49m\u001b[43mgex_only\u001b[49m\u001b[43m=\u001b[49m\u001b[38;5;28;43;01mFalse\u001b[39;49;00m\u001b[43m)\u001b[49m\n",
      "\u001b[36mFile \u001b[39m\u001b[32m~/opt/miniconda3/envs/scbackup3/lib/python3.11/site-packages/legacy_api_wrap/__init__.py:82\u001b[39m, in \u001b[36mlegacy_api.<locals>.wrapper.<locals>.fn_compatible\u001b[39m\u001b[34m(*args_all, **kw)\u001b[39m\n\u001b[32m     79\u001b[39m \u001b[38;5;129m@wraps\u001b[39m(fn)\n\u001b[32m     80\u001b[39m \u001b[38;5;28;01mdef\u001b[39;00m\u001b[38;5;250m \u001b[39m\u001b[34mfn_compatible\u001b[39m(*args_all: P.args, **kw: P.kwargs) -> R:\n\u001b[32m     81\u001b[39m     \u001b[38;5;28;01mif\u001b[39;00m \u001b[38;5;28mlen\u001b[39m(args_all) <= n_positional:\n\u001b[32m---> \u001b[39m\u001b[32m82\u001b[39m         \u001b[38;5;28;01mreturn\u001b[39;00m \u001b[43mfn\u001b[49m\u001b[43m(\u001b[49m\u001b[43m*\u001b[49m\u001b[43margs_all\u001b[49m\u001b[43m,\u001b[49m\u001b[43m \u001b[49m\u001b[43m*\u001b[49m\u001b[43m*\u001b[49m\u001b[43mkw\u001b[49m\u001b[43m)\u001b[49m\n\u001b[32m     84\u001b[39m     args_pos: P.args\n\u001b[32m     85\u001b[39m     args_pos, args_rest = args_all[:n_positional], args_all[n_positional:]\n",
      "\u001b[36mFile \u001b[39m\u001b[32m~/opt/miniconda3/envs/scbackup3/lib/python3.11/site-packages/scanpy/readwrite.py:221\u001b[39m, in \u001b[36mread_10x_h5\u001b[39m\u001b[34m(filename, genome, gex_only, backup_url)\u001b[39m\n\u001b[32m    219\u001b[39m \u001b[38;5;28;01mif\u001b[39;00m \u001b[38;5;129;01mnot\u001b[39;00m is_present:\n\u001b[32m    220\u001b[39m     logg.debug(\u001b[33mf\u001b[39m\u001b[33m\"\u001b[39m\u001b[33m... did not find original file \u001b[39m\u001b[38;5;132;01m{\u001b[39;00mpath\u001b[38;5;132;01m}\u001b[39;00m\u001b[33m\"\u001b[39m)\n\u001b[32m--> \u001b[39m\u001b[32m221\u001b[39m \u001b[38;5;28;01mwith\u001b[39;00m \u001b[43mh5py\u001b[49m\u001b[43m.\u001b[49m\u001b[43mFile\u001b[49m\u001b[43m(\u001b[49m\u001b[38;5;28;43mstr\u001b[39;49m\u001b[43m(\u001b[49m\u001b[43mpath\u001b[49m\u001b[43m)\u001b[49m\u001b[43m,\u001b[49m\u001b[43m \u001b[49m\u001b[33;43m\"\u001b[39;49m\u001b[33;43mr\u001b[39;49m\u001b[33;43m\"\u001b[39;49m\u001b[43m)\u001b[49m \u001b[38;5;28;01mas\u001b[39;00m f:\n\u001b[32m    222\u001b[39m     v3 = \u001b[33m\"\u001b[39m\u001b[33m/matrix\u001b[39m\u001b[33m\"\u001b[39m \u001b[38;5;129;01min\u001b[39;00m f\n\u001b[32m    223\u001b[39m \u001b[38;5;28;01mif\u001b[39;00m v3:\n",
      "\u001b[36mFile \u001b[39m\u001b[32m~/opt/miniconda3/envs/scbackup3/lib/python3.11/site-packages/h5py/_hl/files.py:564\u001b[39m, in \u001b[36mFile.__init__\u001b[39m\u001b[34m(self, name, mode, driver, libver, userblock_size, swmr, rdcc_nslots, rdcc_nbytes, rdcc_w0, track_order, fs_strategy, fs_persist, fs_threshold, fs_page_size, page_buf_size, min_meta_keep, min_raw_keep, locking, alignment_threshold, alignment_interval, meta_block_size, **kwds)\u001b[39m\n\u001b[32m    555\u001b[39m     fapl = make_fapl(driver, libver, rdcc_nslots, rdcc_nbytes, rdcc_w0,\n\u001b[32m    556\u001b[39m                      locking, page_buf_size, min_meta_keep, min_raw_keep,\n\u001b[32m    557\u001b[39m                      alignment_threshold=alignment_threshold,\n\u001b[32m    558\u001b[39m                      alignment_interval=alignment_interval,\n\u001b[32m    559\u001b[39m                      meta_block_size=meta_block_size,\n\u001b[32m    560\u001b[39m                      **kwds)\n\u001b[32m    561\u001b[39m     fcpl = make_fcpl(track_order=track_order, fs_strategy=fs_strategy,\n\u001b[32m    562\u001b[39m                      fs_persist=fs_persist, fs_threshold=fs_threshold,\n\u001b[32m    563\u001b[39m                      fs_page_size=fs_page_size)\n\u001b[32m--> \u001b[39m\u001b[32m564\u001b[39m     fid = \u001b[43mmake_fid\u001b[49m\u001b[43m(\u001b[49m\u001b[43mname\u001b[49m\u001b[43m,\u001b[49m\u001b[43m \u001b[49m\u001b[43mmode\u001b[49m\u001b[43m,\u001b[49m\u001b[43m \u001b[49m\u001b[43muserblock_size\u001b[49m\u001b[43m,\u001b[49m\u001b[43m \u001b[49m\u001b[43mfapl\u001b[49m\u001b[43m,\u001b[49m\u001b[43m \u001b[49m\u001b[43mfcpl\u001b[49m\u001b[43m,\u001b[49m\u001b[43m \u001b[49m\u001b[43mswmr\u001b[49m\u001b[43m=\u001b[49m\u001b[43mswmr\u001b[49m\u001b[43m)\u001b[49m\n\u001b[32m    566\u001b[39m \u001b[38;5;28;01mif\u001b[39;00m \u001b[38;5;28misinstance\u001b[39m(libver, \u001b[38;5;28mtuple\u001b[39m):\n\u001b[32m    567\u001b[39m     \u001b[38;5;28mself\u001b[39m._libver = libver\n",
      "\u001b[36mFile \u001b[39m\u001b[32m~/opt/miniconda3/envs/scbackup3/lib/python3.11/site-packages/h5py/_hl/files.py:238\u001b[39m, in \u001b[36mmake_fid\u001b[39m\u001b[34m(name, mode, userblock_size, fapl, fcpl, swmr)\u001b[39m\n\u001b[32m    236\u001b[39m     \u001b[38;5;28;01mif\u001b[39;00m swmr \u001b[38;5;129;01mand\u001b[39;00m swmr_support:\n\u001b[32m    237\u001b[39m         flags |= h5f.ACC_SWMR_READ\n\u001b[32m--> \u001b[39m\u001b[32m238\u001b[39m     fid = \u001b[43mh5f\u001b[49m\u001b[43m.\u001b[49m\u001b[43mopen\u001b[49m\u001b[43m(\u001b[49m\u001b[43mname\u001b[49m\u001b[43m,\u001b[49m\u001b[43m \u001b[49m\u001b[43mflags\u001b[49m\u001b[43m,\u001b[49m\u001b[43m \u001b[49m\u001b[43mfapl\u001b[49m\u001b[43m=\u001b[49m\u001b[43mfapl\u001b[49m\u001b[43m)\u001b[49m\n\u001b[32m    239\u001b[39m \u001b[38;5;28;01melif\u001b[39;00m mode == \u001b[33m'\u001b[39m\u001b[33mr+\u001b[39m\u001b[33m'\u001b[39m:\n\u001b[32m    240\u001b[39m     fid = h5f.open(name, h5f.ACC_RDWR, fapl=fapl)\n",
      "\u001b[36mFile \u001b[39m\u001b[32mh5py/_objects.pyx:54\u001b[39m, in \u001b[36mh5py._objects.with_phil.wrapper\u001b[39m\u001b[34m()\u001b[39m\n",
      "\u001b[36mFile \u001b[39m\u001b[32mh5py/_objects.pyx:55\u001b[39m, in \u001b[36mh5py._objects.with_phil.wrapper\u001b[39m\u001b[34m()\u001b[39m\n",
      "\u001b[36mFile \u001b[39m\u001b[32mh5py/h5f.pyx:102\u001b[39m, in \u001b[36mh5py.h5f.open\u001b[39m\u001b[34m()\u001b[39m\n",
      "\u001b[31mFileNotFoundError\u001b[39m: [Errno 2] Unable to synchronously open file (unable to open file: name = 'GSE277777_IGO17402-filtered_feature_bc_matrix.h5', errno = 2, error message = 'No such file or directory', flags = 0, o_flags = 0)"
     ]
    }
   ],
   "source": [
    "adata = sc.read_10x_h5('GSE277777_IGO17402-filtered_feature_bc_matrix.h5', gex_only=False)"
   ]
  },
  {
   "cell_type": "code",
   "execution_count": null,
   "metadata": {},
   "outputs": [],
   "source": [
    "adata.var_names_make_unique()  # this is unnecessary if using `var_names='gene_ids'` in `sc.read_10x_mtx`"
   ]
  },
  {
   "cell_type": "code",
   "execution_count": null,
   "metadata": {},
   "outputs": [],
   "source": [
    "samples = list(adata[:,adata.var['feature_types']=='Antibody Capture'].var.index)"
   ]
  },
  {
   "cell_type": "code",
   "execution_count": null,
   "metadata": {},
   "outputs": [],
   "source": [
    "# Now filter out barcodes\n",
    "hashadata = adata[:,samples]\n",
    "adata = adata[:,[y for y in adata.var_names if y not in samples]]"
   ]
  },
  {
   "cell_type": "code",
   "execution_count": null,
   "metadata": {},
   "outputs": [],
   "source": [
    "hashadata.var"
   ]
  },
  {
   "cell_type": "markdown",
   "metadata": {},
   "source": [
    "## Preprocessing"
   ]
  },
  {
   "cell_type": "code",
   "execution_count": null,
   "metadata": {},
   "outputs": [],
   "source": [
    "sc.pl.highest_expr_genes(adata, n_top=20, )"
   ]
  },
  {
   "cell_type": "code",
   "execution_count": null,
   "metadata": {},
   "outputs": [],
   "source": [
    "sc.pp.filter_cells(adata, min_counts=1500)\n",
    "sc.pp.filter_cells(adata, min_genes=300)\n",
    "sc.pp.filter_genes(adata, min_cells=3)"
   ]
  },
  {
   "cell_type": "code",
   "execution_count": null,
   "metadata": {},
   "outputs": [],
   "source": [
    "adata.var['mt'] = adata.var_names.str.startswith('mt-') # annotate the group of mitochondrial genes as 'MT'\n",
    "sc.pp.calculate_qc_metrics(adata, qc_vars=['mt'], percent_top=None, log1p=False, inplace=True)"
   ]
  },
  {
   "cell_type": "code",
   "execution_count": null,
   "metadata": {},
   "outputs": [],
   "source": [
    "sc.pl.violin(adata, ['n_genes_by_counts', 'total_counts', 'pct_counts_mt'],\n",
    "             jitter=0.4, multi_panel=True, rotation=90)"
   ]
  },
  {
   "cell_type": "code",
   "execution_count": null,
   "metadata": {},
   "outputs": [],
   "source": [
    "adata.obs[\"log10GenesPerUMI\"] = adata.obs['n_genes_by_counts'].apply(math.log10) / adata.obs['total_counts'].apply(math.log10)\n",
    "matplotlib.pyplot.hist(adata.obs[\"log10GenesPerUMI\"])"
   ]
  },
  {
   "cell_type": "code",
   "execution_count": null,
   "metadata": {},
   "outputs": [],
   "source": [
    "sc.pl.violin(adata, ['log10GenesPerUMI'],\n",
    "             jitter=0.4, multi_panel=True, rotation=90)"
   ]
  },
  {
   "cell_type": "code",
   "execution_count": null,
   "metadata": {},
   "outputs": [],
   "source": [
    "#Filter by Log10GenesPerUMI\n",
    "adata = adata[adata.obs.log10GenesPerUMI >= 0.8,:]"
   ]
  },
  {
   "cell_type": "code",
   "execution_count": null,
   "metadata": {
    "scrolled": true
   },
   "outputs": [],
   "source": [
    "adata = adata[adata.obs.pct_counts_mt <= 10, :]"
   ]
  },
  {
   "cell_type": "markdown",
   "metadata": {},
   "source": [
    "## Run Demultiplexing"
   ]
  },
  {
   "cell_type": "code",
   "execution_count": null,
   "metadata": {},
   "outputs": [],
   "source": [
    "hashadata = hashadata[hashadata.obs.index.isin(adata.obs.index), :]"
   ]
  },
  {
   "cell_type": "code",
   "execution_count": null,
   "metadata": {},
   "outputs": [],
   "source": [
    "hashadata.var_names"
   ]
  },
  {
   "cell_type": "code",
   "execution_count": null,
   "metadata": {},
   "outputs": [],
   "source": [
    "hashCounts = pd.DataFrame(hashadata.X.todense(), columns=hashadata.var_names, index=adata.obs.index)"
   ]
  },
  {
   "cell_type": "code",
   "execution_count": null,
   "metadata": {
    "scrolled": true
   },
   "outputs": [],
   "source": [
    "hashDisc = hashCounts.describe([.1,.2,.3,.4,.5,.6,.7,.8,.9,0.99])\n",
    "#hashDisc"
   ]
  },
  {
   "cell_type": "code",
   "execution_count": null,
   "metadata": {},
   "outputs": [],
   "source": [
    "hashIDs = hashCounts.copy()\n",
    "hashID = hashadata.var_names\n",
    "for hashName in hashadata.var_names:\n",
    "    print(hashName)\n",
    "    print(hashDisc.loc[\"90%\",hashName])\n",
    "    hashIDs.loc[:,hashName] = hashCounts.loc[:,hashName] > hashDisc.loc[\"90%\",hashName]\n",
    "#hashIDs"
   ]
  },
  {
   "cell_type": "code",
   "execution_count": null,
   "metadata": {},
   "outputs": [],
   "source": [
    "plt.rcParams['svg.fonttype'] = 'none'\n",
    "plt.rcParams[\"font.family\"] = \"Arial\"\n",
    "plt.rcParams['figure.figsize'] = (3,4)"
   ]
  },
  {
   "cell_type": "raw",
   "metadata": {},
   "source": [
    "fig, axs = plt.subplots(2,5, figsize =(20, 5))\n",
    "\n",
    "for i, hashName in enumerate(hashadata.var_names):\n",
    "    hashCounts2 = np.log10(hashCounts[hashName]+1)\n",
    "    axs[i//5,i%5].set_title(hashName)\n",
    "    axs[i//5,i%5].hist(hashCounts2, bins = 100)\n",
    "    axs[i//5,i%5].axvline(np.log10(int(hashDisc.loc[\"90%\",hashName])+1), color='k', linestyle='dashed', linewidth=1)\n",
    "\n",
    "#plt.rcParams[\"figure.figsize\"] = (20,5)\n",
    "plt.show()"
   ]
  },
  {
   "cell_type": "code",
   "execution_count": null,
   "metadata": {},
   "outputs": [],
   "source": [
    "from sklearn.mixture import BayesianGaussianMixture\n",
    "from scipy.stats import norm\n",
    "fig, axs = plt.subplots(2,5, figsize =(20, 5))\n",
    "dfHashBoundry = pd.DataFrame(np.zeros(len(hashadata.var_names)),hashadata.var_names, columns=[\"boundry\"])\n",
    "gmm = BayesianGaussianMixture(n_components=2, random_state=250,init_params='k-means++')\n",
    "binEx = np.arange(0,5,5/100).reshape(-1,1)\n",
    "\n",
    "for i, hashName in enumerate(hashadata.var_names):\n",
    "    hashCount = np.array(np.log10(hashCounts[hashName]+1)).reshape(-1, 1)\n",
    "    fitGMM = gmm.fit(hashCount)\n",
    "    mean = fitGMM.means_  \n",
    "    covs  = fitGMM.covariances_\n",
    "    weights = fitGMM.weights_\n",
    "  \n",
    "    fitGmmBound = fitGMM.predict(binEx)\n",
    "\n",
    "    x_axis = np.arange(0, 5, 0.1)\n",
    "    y_axis0 = norm.pdf(x_axis, float(mean[0][0]), np.sqrt(float(covs[0][0][0])))*weights[0] # 1st gaussian\n",
    "    y_axis1 = norm.pdf(x_axis, float(mean[1][0]), np.sqrt(float(covs[1][0][0])))*weights[1] # 2nd gaussian\n",
    "\n",
    "    hashBoundry = False #binEx[np.where(fitGmmBound == 1)[0][0]][0]  \n",
    "    print(hashName)\n",
    "    if mean[0][0] < mean[1][0] and (((y_axis1 < y_axis0)[0] == False and sum(v1 != v2 for v1, v2 in zip(y_axis1 < y_axis0, (y_axis1 < y_axis0)[1:])) % 2 == 0) or \n",
    "    sum(v1 != v2 for v1, v2 in zip(y_axis1 < y_axis0, (y_axis1 < y_axis0)[1:])) == 1):\n",
    "        hashBoundry = x_axis[np.where(y_axis1 < y_axis0)[0][-1]+2]\n",
    "    else:\n",
    "        hashBoundry = x_axis[np.where(y_axis0 < y_axis1)[0][-1]+2]\n",
    "    \n",
    "    naiveBoundry = np.log10(int(hashDisc.loc[\"90%\",hashName])+1)\n",
    "    \n",
    "    dfHashBoundry.loc[hashName] = hashBoundry\n",
    "    \n",
    "    # Plot 2\n",
    "    axs[i//5,i%5].set_title(hashName)\n",
    "    axs[i//5,i%5].axvline(naiveBoundry, c='C3', linestyle='dashed', linewidth=1) #red\n",
    "    axs[i//5,i%5].axvline(hashBoundry, c='C2', linestyle='dashed', linewidth=1)  #green\n",
    "    axs[i//5,i%5].hist(hashCount, density=True, color='black', bins=100)        \n",
    "    axs[i//5,i%5].plot(x_axis, y_axis0, lw=3, c='C6')                            #pink\n",
    "    axs[i//5,i%5].plot(x_axis, y_axis1, lw=3, c='C1')                            #orange\n",
    "    axs[i//5,i%5].plot(x_axis, y_axis0+y_axis1, lw=3, c='C0', ls=':')            #dotted blue\n",
    "    \n",
    "plt.tight_layout(pad=1.0)\n",
    "#plt.rcParams[\"figure.figsize\"] = (20,5)\n",
    "plt.show()"
   ]
  },
  {
   "cell_type": "code",
   "execution_count": null,
   "metadata": {},
   "outputs": [],
   "source": [
    "hashIDs = hashCounts.copy()\n",
    "hashID = hashadata.var_names\n",
    "#set manual minimum threshold to be 0.5\n",
    "for hashName in hashadata.var_names:\n",
    "    print(hashName)\n",
    "    print(dfHashBoundry.loc[hashName].values[0])\n",
    "    #manually set minimum threshold to 0.5 given poor HashData\n",
    "    if (dfHashBoundry.loc[hashName].values[0] < 1):\n",
    "        dfHashBoundry.loc[hashName].values[0] = 1\n",
    "    print(dfHashBoundry.loc[hashName].values[0])\n",
    "    hashIDs.loc[:,hashName] = np.log10(hashCounts.loc[:,hashName]+1) > dfHashBoundry.loc[hashName].values[0]\n",
    "#hashIDs"
   ]
  },
  {
   "cell_type": "code",
   "execution_count": null,
   "metadata": {},
   "outputs": [],
   "source": [
    "classification = np.empty(len(adata), dtype=\"object\")\n",
    "i = 0\n",
    "for cellBar, hashBool in hashIDs.iterrows():\n",
    "    numHashes = sum(hashBool)\n",
    "    if (numHashes == 1):\n",
    "        classif = hashID[hashBool.values].values[0]\n",
    "    elif (numHashes > 1):\n",
    "        classif = \"doublet\"\n",
    "    else:\n",
    "        classif = \"negative\"\n",
    "    classification[i] = classif\n",
    "    i = i + 1\n",
    "    #break"
   ]
  },
  {
   "cell_type": "code",
   "execution_count": null,
   "metadata": {},
   "outputs": [],
   "source": [
    "adata.obs[\"Classification\"] = classification\n",
    "hashadata.obs[\"Classification\"] = classification\n",
    "adata.obs[\"Classification\"].value_counts()"
   ]
  },
  {
   "cell_type": "code",
   "execution_count": null,
   "metadata": {
    "scrolled": true
   },
   "outputs": [],
   "source": [
    "#output visulaization of hashing\n",
    "sc.pl.heatmap(hashadata, hashadata.var_names, groupby=\"Classification\", log=True)#, save = f\"_{figName}_hash.png\")"
   ]
  },
  {
   "cell_type": "markdown",
   "metadata": {},
   "source": [
    "## set highly variable genes before moving all mean to 0"
   ]
  },
  {
   "cell_type": "code",
   "execution_count": null,
   "metadata": {},
   "outputs": [],
   "source": [
    "adata.var.index"
   ]
  },
  {
   "cell_type": "code",
   "execution_count": null,
   "metadata": {},
   "outputs": [],
   "source": [
    "import matplotlib.pyplot as plt\n",
    "_ = plt.hist(adata.X[:,adata.var.index.isin(['tdTomato'])].toarray())\n",
    "plt.ylabel(\"Count\")\n",
    "plt.title(\"tdTomato\")\n",
    "plt.axvline(x=2)\n",
    "plt.show()"
   ]
  },
  {
   "cell_type": "code",
   "execution_count": null,
   "metadata": {},
   "outputs": [],
   "source": [
    "adata.obs['tdTomato_count'] = adata.X[:,adata.var.index.isin(['tdTomato'])].toarray()"
   ]
  },
  {
   "cell_type": "code",
   "execution_count": null,
   "metadata": {},
   "outputs": [],
   "source": [
    "import matplotlib.pyplot as plt\n",
    "_ = plt.hist(adata.X[:,adata.var.index.isin(['EGFP'])].toarray())\n",
    "plt.ylabel(\"Count\")\n",
    "plt.title(\"EGFP\")\n",
    "plt.axvline(x=2)\n",
    "plt.show()"
   ]
  },
  {
   "cell_type": "code",
   "execution_count": null,
   "metadata": {},
   "outputs": [],
   "source": [
    "adata.obs['EGFP_count'] = adata.X[:,adata.var.index.isin(['EGFP'])].toarray()"
   ]
  },
  {
   "cell_type": "code",
   "execution_count": null,
   "metadata": {},
   "outputs": [],
   "source": [
    "import matplotlib.pyplot as plt\n",
    "_ = plt.hist(adata.X[:,adata.var.index.isin(['Cre'])].toarray())\n",
    "plt.ylabel(\"Count\")\n",
    "plt.title(\"Cre\")\n",
    "plt.axvline(x=2)\n",
    "plt.show()"
   ]
  },
  {
   "cell_type": "code",
   "execution_count": null,
   "metadata": {},
   "outputs": [],
   "source": [
    "adata.obs['Cre_count'] = adata.X[:,adata.var.index.isin(['Cre'])].toarray()"
   ]
  },
  {
   "cell_type": "markdown",
   "metadata": {},
   "source": [
    "## Filter doublets and negative cells"
   ]
  },
  {
   "cell_type": "code",
   "execution_count": null,
   "metadata": {
    "scrolled": true
   },
   "outputs": [],
   "source": [
    "adata.obs.Classification.value_counts()"
   ]
  },
  {
   "cell_type": "code",
   "execution_count": null,
   "metadata": {},
   "outputs": [],
   "source": [
    "adata = adata[~adata.obs['Classification'].isin(['doublet','negative']),:]"
   ]
  },
  {
   "cell_type": "code",
   "execution_count": null,
   "metadata": {
    "scrolled": true
   },
   "outputs": [],
   "source": [
    "adata.obs.Classification.value_counts()"
   ]
  },
  {
   "cell_type": "markdown",
   "metadata": {},
   "source": [
    "## Set Groups"
   ]
  },
  {
   "cell_type": "code",
   "execution_count": null,
   "metadata": {},
   "outputs": [],
   "source": [
    "samples"
   ]
  },
  {
   "cell_type": "code",
   "execution_count": null,
   "metadata": {},
   "outputs": [],
   "source": [
    "#Set groups\n",
    "#BO1016_GFP has Akaluc (BO1016_BFP does not)\n",
    "adata.obs['Group'] = '6wk3d'\n",
    "#adata.obs['Allele'] = 'Slc4a11'\n",
    "adata.obs['Group'][adata.obs.Classification.isin(['BQ1151_B0308',\n",
    "                                                   'BQ1152_B0309'])] = 'Hopx_12wk3d'\n",
    "adata.obs['Group'][adata.obs.Classification.isin(['BO1534_B0301'])] = 'Carrier'"
   ]
  },
  {
   "cell_type": "code",
   "execution_count": null,
   "metadata": {},
   "outputs": [],
   "source": [
    "adata.layers['counts']=adata.X.copy()"
   ]
  },
  {
   "cell_type": "code",
   "execution_count": null,
   "metadata": {
    "scrolled": true
   },
   "outputs": [],
   "source": [
    "sc.pp.normalize_total(adata, target_sum=1e4)"
   ]
  },
  {
   "cell_type": "markdown",
   "metadata": {},
   "source": [
    "Logarithmize the data:"
   ]
  },
  {
   "cell_type": "code",
   "execution_count": null,
   "metadata": {
    "scrolled": true
   },
   "outputs": [],
   "source": [
    "sc.pp.log1p(adata)"
   ]
  },
  {
   "cell_type": "code",
   "execution_count": null,
   "metadata": {
    "scrolled": true
   },
   "outputs": [],
   "source": [
    "sc.pp.highly_variable_genes(adata) #batch_key=Classification"
   ]
  },
  {
   "cell_type": "code",
   "execution_count": null,
   "metadata": {
    "scrolled": true
   },
   "outputs": [],
   "source": [
    "sc.pl.highly_variable_genes(adata)"
   ]
  },
  {
   "cell_type": "code",
   "execution_count": null,
   "metadata": {
    "scrolled": true
   },
   "outputs": [],
   "source": [
    "#will need to update this after realignment\n",
    "#Ensure marker genes aren't making an impact to highly variable gene analysis downstream\n",
    "adata.var.highly_variable['EGFP'] = False\n",
    "adata.var.highly_variable['mScarlet'] = False\n",
    "adata.var.highly_variable['Cre'] = False\n",
    "adata.var.highly_variable['ERT'] = False\n",
    "adata.var.highly_variable['iDTR'] = False\n",
    "adata.var.highly_variable['tagBFP'] = False\n",
    "adata.var.highly_variable['mKate2'] = False\n",
    "adata.var.highly_variable['Akaluc'] = False\n",
    "adata.var.highly_variable['tdTomato'] = False\n",
    "adata.var.highly_variable['GLuc'] = False\n",
    "adata.var.highly_variable['CLuc'] = False"
   ]
  },
  {
   "cell_type": "code",
   "execution_count": null,
   "metadata": {},
   "outputs": [],
   "source": [
    "adata.raw = adata"
   ]
  },
  {
   "cell_type": "code",
   "execution_count": null,
   "metadata": {},
   "outputs": [],
   "source": [
    "adata.write('write/allmice-IGO17402.h5ad', compression='gzip')"
   ]
  },
  {
   "cell_type": "raw",
   "metadata": {},
   "source": [
    "adata = sc.read('write/allmice.h5ad')"
   ]
  },
  {
   "cell_type": "raw",
   "metadata": {},
   "source": [
    "adata = adata[:, adata.var.highly_variable]"
   ]
  },
  {
   "cell_type": "raw",
   "metadata": {
    "scrolled": true
   },
   "source": [
    "sc.pp.regress_out(adata, ['total_counts', 'pct_counts_mt'])"
   ]
  },
  {
   "cell_type": "code",
   "execution_count": null,
   "metadata": {
    "scrolled": true
   },
   "outputs": [],
   "source": [
    "sc.pp.scale(adata, max_value=10)"
   ]
  },
  {
   "cell_type": "markdown",
   "metadata": {},
   "source": [
    "## Principal component analysis"
   ]
  },
  {
   "cell_type": "code",
   "execution_count": null,
   "metadata": {},
   "outputs": [],
   "source": [
    "sc.tl.pca(adata, svd_solver='arpack', n_comps=150)"
   ]
  },
  {
   "cell_type": "code",
   "execution_count": null,
   "metadata": {},
   "outputs": [],
   "source": [
    "sc.pl.pca_variance_ratio(adata, log=True, n_pcs=150)"
   ]
  },
  {
   "cell_type": "markdown",
   "metadata": {},
   "source": [
    "Save the result."
   ]
  },
  {
   "cell_type": "code",
   "execution_count": null,
   "metadata": {},
   "outputs": [],
   "source": [
    "adata.write(results_file, compression='gzip')"
   ]
  },
  {
   "cell_type": "markdown",
   "metadata": {},
   "source": [
    "## Computing the neighborhood graph"
   ]
  },
  {
   "cell_type": "code",
   "execution_count": null,
   "metadata": {
    "scrolled": true
   },
   "outputs": [],
   "source": [
    "sc.pp.neighbors(adata, n_neighbors=15, n_pcs=40)"
   ]
  },
  {
   "cell_type": "markdown",
   "metadata": {},
   "source": [
    "## Embedding the neighborhood graph"
   ]
  },
  {
   "cell_type": "code",
   "execution_count": null,
   "metadata": {},
   "outputs": [],
   "source": [
    "sc.tl.umap(adata)"
   ]
  },
  {
   "cell_type": "code",
   "execution_count": null,
   "metadata": {},
   "outputs": [],
   "source": [
    "sc.pl.umap(adata, color=['Classification'])"
   ]
  },
  {
   "cell_type": "code",
   "execution_count": null,
   "metadata": {
    "scrolled": true
   },
   "outputs": [],
   "source": [
    "sc.pl.umap(adata, color=['Epcam','Ptprc','Vim', 'Cdh1',]) #'Ptprc','Cdh2'"
   ]
  },
  {
   "cell_type": "code",
   "execution_count": null,
   "metadata": {},
   "outputs": [],
   "source": [
    "sc.pl.umap(adata, color=['EGFP','tdTomato','iDTR','mScarlet'], vmax=2)"
   ]
  },
  {
   "cell_type": "code",
   "execution_count": null,
   "metadata": {},
   "outputs": [],
   "source": [
    "sc.pl.umap(adata, color=['total_counts'])"
   ]
  },
  {
   "cell_type": "markdown",
   "metadata": {},
   "source": [
    "## Clustering the neighborhood graph"
   ]
  },
  {
   "cell_type": "markdown",
   "metadata": {},
   "source": [
    "As with Seurat and many other frameworks, we recommend the Leiden graph-clustering method (community detection based on optimizing modularity) by [Traag *et al.* (2018)](https://scanpy.readthedocs.io/en/latest/references.html#traag18). Note that Leiden clustering directly clusters the neighborhood graph of cells, which we already computed in the previous section."
   ]
  },
  {
   "cell_type": "code",
   "execution_count": null,
   "metadata": {},
   "outputs": [],
   "source": [
    "sc.tl.leiden(adata, resolution=.25)"
   ]
  },
  {
   "cell_type": "markdown",
   "metadata": {},
   "source": [
    "Plot the clusters, which agree quite well with the result of Seurat."
   ]
  },
  {
   "cell_type": "code",
   "execution_count": null,
   "metadata": {},
   "outputs": [],
   "source": [
    "sc.pl.umap(adata, color=['leiden', 'Epcam', 'Sftpc', # Tumor cells\n",
    "                         'Ptprc']), #immune\n",
    "                         #  'Cd4', 'Cd8a', #T cell #'Cd3e',\n",
    "                         # 'Cd19', 'Ms4a1', 'Cd22', # B cell\n",
    "                         # #'Itgax', 'Il3ra', # Dendritic Cell\n",
    "                         # 'Ncam1',# 'Ncr1', # NK Cell\n",
    "                         # 'Cd34', # Hematopoetic stem cell\n",
    "                         # #'Cd14', 'Cd33', # macrophage\n",
    "                         # #'Ceacam8' # Granulocyte\n",
    "                         # 'Itga2b', 'Itgb3', 'Selp', #platelet\n",
    "                         # #'Gypa',  # erythrocyte\n",
    "                         # #'Mcam', 'Vcam1', 'Pecam1', 'Sele', # endothelial cell\n",
    "                         # 'Cd109', 'Wnt5a', 'Kras'])"
   ]
  },
  {
   "cell_type": "code",
   "execution_count": null,
   "metadata": {},
   "outputs": [],
   "source": [
    "sc.pl.umap(adata, color=['Slc4a11', 'Itga2', 'Cldn4','Epcam'], vmax=2) #'Tigit', "
   ]
  },
  {
   "cell_type": "code",
   "execution_count": null,
   "metadata": {},
   "outputs": [],
   "source": [
    "sc.pl.umap(adata, color=['Vim', 'Epcam', 'Krt8', 'Krt18', 'Pdpn', 'Hopx'], vmax=2) #'Pecam1',"
   ]
  },
  {
   "cell_type": "code",
   "execution_count": null,
   "metadata": {},
   "outputs": [],
   "source": [
    "sc.pl.umap(adata, color=['EGFP'], cmap='Reds')\n",
    "sc.pl.umap(adata, color=['tdTomato'], cmap='Reds')\n",
    "#sc.pl.umap(adata, color=['ERT'], cmap='Reds')"
   ]
  },
  {
   "cell_type": "code",
   "execution_count": null,
   "metadata": {},
   "outputs": [],
   "source": [
    "sc.pl.umap(adata, color=[\"mScarlet\", \"Cre\", \"ERT\",'iDTR','EGFP','tdTomato'], cmap='Reds') #'mKate2'"
   ]
  },
  {
   "cell_type": "code",
   "execution_count": null,
   "metadata": {
    "scrolled": true
   },
   "outputs": [],
   "source": [
    "for label in adata.obs['Classification'].unique():\n",
    "    sc.pl.umap(adata, color='Classification',groups=[label])"
   ]
  },
  {
   "cell_type": "code",
   "execution_count": null,
   "metadata": {
    "scrolled": true
   },
   "outputs": [],
   "source": [
    "sc.pl.umap(adata,color=['n_genes', 'n_genes_by_counts', 'total_counts', 'total_counts_mt',\n",
    "       'pct_counts_mt', 'log10GenesPerUMI'])"
   ]
  },
  {
   "cell_type": "code",
   "execution_count": null,
   "metadata": {},
   "outputs": [],
   "source": [
    "sc.pl.umap(adata, color=['Epcam','EGFP','Ptprc','leiden',],cmap=\"Reds\")"
   ]
  },
  {
   "cell_type": "code",
   "execution_count": null,
   "metadata": {},
   "outputs": [],
   "source": [
    "sc.pl.umap(adata, color=['leiden'], groups=['1','2'],legend_loc='on data')"
   ]
  },
  {
   "cell_type": "code",
   "execution_count": null,
   "metadata": {},
   "outputs": [],
   "source": [
    "sc.pl.dotplot(adata, ['EGFP','tdTomato','Akaluc','iDTR','Hopx','Slc4a11','Pnp2'],'Classification',swap_axes=True)"
   ]
  },
  {
   "cell_type": "code",
   "execution_count": null,
   "metadata": {},
   "outputs": [],
   "source": [
    "# BO1534 is carrier (immune-live+); eventually will need to exclude.\n",
    "# BR1311 is too high for what should have been sorted and not EGFP enriched; also exclude"
   ]
  },
  {
   "cell_type": "markdown",
   "metadata": {},
   "source": [
    "## Select Tumor Cells"
   ]
  },
  {
   "cell_type": "code",
   "execution_count": null,
   "metadata": {},
   "outputs": [],
   "source": [
    "# Select only those subset of cells that are useful\n",
    "adata2 = sc.read('write/allmice-IGO17402.h5ad')\n",
    "adata = adata2[adata.obs['leiden'].isin(['1','2']),:] # keep tumor cells\n",
    "adata = adata[~adata.obs.Classification.isin(['BO1534_B0301','BR1311_B0306']),:] #exclude non EGFP sorted cells or questionable sorts\n",
    "del adata2"
   ]
  },
  {
   "cell_type": "code",
   "execution_count": null,
   "metadata": {},
   "outputs": [],
   "source": [
    "#fix a bug; 'base' is None but that doesn't seem to have transferred\n",
    "adata.uns['log1p'] = {}\n",
    "adata.uns['log1p']['base'] = None"
   ]
  },
  {
   "cell_type": "code",
   "execution_count": null,
   "metadata": {},
   "outputs": [],
   "source": [
    "sc.pp.highly_variable_genes(adata)#, batch_key='Classification')"
   ]
  },
  {
   "cell_type": "code",
   "execution_count": null,
   "metadata": {
    "scrolled": true
   },
   "outputs": [],
   "source": [
    "#Ensure marker genes aren't making an impact to highly variable gene analysis downstream\n",
    "adata.var.highly_variable['EGFP'] = False\n",
    "adata.var.highly_variable['mScarlet'] = False\n",
    "adata.var.highly_variable['Cre'] = False\n",
    "adata.var.highly_variable['ERT'] = False\n",
    "adata.var.highly_variable['iDTR'] = False\n",
    "adata.var.highly_variable['tagBFP'] = False\n",
    "adata.var.highly_variable['mKate2'] = False\n",
    "adata.var.highly_variable['Akaluc'] = False\n",
    "adata.var.highly_variable['tdTomato'] = False\n",
    "adata.var.highly_variable['CLuc'] = False\n",
    "adata.var.highly_variable['GLuc'] = False"
   ]
  },
  {
   "cell_type": "code",
   "execution_count": null,
   "metadata": {},
   "outputs": [],
   "source": [
    "sc.pl.highly_variable_genes(adata)"
   ]
  },
  {
   "cell_type": "code",
   "execution_count": null,
   "metadata": {},
   "outputs": [],
   "source": [
    "adata.raw = adata"
   ]
  },
  {
   "cell_type": "code",
   "execution_count": null,
   "metadata": {},
   "outputs": [],
   "source": [
    "adata.write('write/allmice-tumor-IGO17402.h5ad', compression='gzip')\n",
    "#adata = sc.read('write/allmice-tumor.h5ad')"
   ]
  }
 ],
 "metadata": {
  "anaconda-cloud": {},
  "kernelspec": {
   "display_name": "Python 3 (ipykernel)",
   "language": "python",
   "name": "python3"
  },
  "language_info": {
   "codemirror_mode": {
    "name": "ipython",
    "version": 3
   },
   "file_extension": ".py",
   "mimetype": "text/x-python",
   "name": "python",
   "nbconvert_exporter": "python",
   "pygments_lexer": "ipython3",
   "version": "3.11.7"
  }
 },
 "nbformat": 4,
 "nbformat_minor": 4
}
