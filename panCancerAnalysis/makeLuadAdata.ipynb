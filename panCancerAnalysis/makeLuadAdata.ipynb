{
 "cells": [
  {
   "cell_type": "markdown",
   "id": "35ff1c09-6fb6-4797-a565-eceed9b074f1",
   "metadata": {},
   "source": [
    "https://www.ncbi.nlm.nih.gov/geo/query/acc.cgi?acc=GSE154989"
   ]
  },
  {
   "cell_type": "code",
   "execution_count": null,
   "id": "926a8072-2bb7-4d6c-8b48-ec8c1b5a288d",
   "metadata": {},
   "outputs": [],
   "source": [
    "import scanpy as sc\n",
    "import numpy as np\n",
    "import pandas as pd\n",
    "\n",
    "import scipy"
   ]
  },
  {
   "cell_type": "code",
   "execution_count": null,
   "id": "f0c5e586",
   "metadata": {},
   "outputs": [],
   "source": [
    "fileLoc = \"../data/\"\n",
    "lungTimeNorm = fileLoc + \"GSE154989_mmLungPlate_fQC_dSp_normTPM.h5\"\n",
    "lungTimeRaw = fileLoc + \"GSE154989_mmLungPlate_fQC_dSp_rawCount.h5\"\n",
    "lungTimeRAWOrig = fileLoc + \"GSE154989_mmLungPlate_fQC_dSp_rawCountOrig.h5\"\n",
    "luadGeneNames = fileLoc + \"GSE154989_mmLungPlate_fQC_geneTable.csv\"\n",
    "luadCell = fileLoc + \"GSE154989_mmLungPlate_fQC_smpTable.csv\"\n",
    "luadObs = fileLoc + \"GSE154989_mmLungPlate_fQC_dZ_annot_smpTable.csv\""
   ]
  },
  {
   "cell_type": "code",
   "execution_count": null,
   "id": "37d8f191",
   "metadata": {},
   "outputs": [],
   "source": [
    "luadGenes = pd.read_csv(luadGeneNames)#[[\"geneID\",\"geneSymbol\"]]\n",
    "luadGenes.index = list(luadGenes[\"geneID\"])\n",
    "luadGenes"
   ]
  },
  {
   "cell_type": "code",
   "execution_count": null,
   "id": "42448db2",
   "metadata": {},
   "outputs": [],
   "source": [
    "cellIds = pd.read_csv(luadCell)\n",
    "#cellIds.index = list(cellIds[\"sampleID\"])\n",
    "\n",
    "cellVar = pd.read_csv(luadObs)\n",
    "#cellVar.index = list(cellVar[\"sampleID\"])\n",
    "\n",
    "totalVar = cellIds.merge(cellVar)\n",
    "totalVar.index = list(totalVar[\"sampleID\"])\n",
    "totalVar"
   ]
  },
  {
   "cell_type": "code",
   "execution_count": null,
   "id": "8be4d395",
   "metadata": {},
   "outputs": [],
   "source": [
    "import h5py\n",
    "filename = lungTimeRaw\n",
    "\n",
    "with h5py.File(filename, \"r\") as f:\n",
    "    # List all groups\n",
    "    print(\"Keys: %s\" % f.keys())\n",
    "    # Get the data\n",
    "    i = np.array(f[list(f.keys())[0]])[0]\n",
    "    j = np.array(f[list(f.keys())[1]])[0]\n",
    "    v = np.array(f[list(f.keys())[2]])[0]"
   ]
  },
  {
   "cell_type": "code",
   "execution_count": null,
   "id": "bb96cd86",
   "metadata": {},
   "outputs": [],
   "source": [
    "i=np.concatenate(([\"%%MatrixMarket matrix coordinate real general\",\"%\",str(int(max(i)))],i.astype(int)))\n",
    "j=np.concatenate(([\"\",\"\",str(int(max(j)))],j.astype(int)))\n",
    "v=np.concatenate(([\"\",\"\",str(int(len(v)))],v.astype(int)))"
   ]
  },
  {
   "cell_type": "code",
   "execution_count": null,
   "id": "cadbcd24",
   "metadata": {},
   "outputs": [],
   "source": [
    "exp = pd.DataFrame(data={\"i\":i,\"j\":j,\"v\":v})\n",
    "exp"
   ]
  },
  {
   "cell_type": "code",
   "execution_count": null,
   "id": "2ca7e57f",
   "metadata": {},
   "outputs": [],
   "source": [
    "exp.to_csv(fileLoc + \"matrix.mtx\", sep=\"\\t\", index=False, header=False)"
   ]
  },
  {
   "cell_type": "code",
   "execution_count": null,
   "id": "a95153b9",
   "metadata": {},
   "outputs": [],
   "source": [
    "adata = sc.read_mtx(fileLoc+\"matrix.mtx\",dtype=\"float\")"
   ]
  },
  {
   "cell_type": "code",
   "execution_count": null,
   "id": "aeaae29b",
   "metadata": {},
   "outputs": [],
   "source": [
    "adata.obs = luadGenes\n",
    "adata.var = totalVar\n",
    "adata.var_names_make_unique()\n",
    "#adata = adata.T"
   ]
  },
  {
   "cell_type": "code",
   "execution_count": null,
   "id": "e815447a",
   "metadata": {},
   "outputs": [],
   "source": [
    "adata.write(fileLoc + \"luadCisAdata.h5ad\")"
   ]
  },
  {
   "cell_type": "code",
   "execution_count": null,
   "id": "257d304a-fea3-49fc-a603-26093aae585a",
   "metadata": {},
   "outputs": [],
   "source": [
    "adata.obs"
   ]
  },
  {
   "cell_type": "code",
   "execution_count": null,
   "id": "11f84b9b-d736-4c5d-8893-b7834e84ba0d",
   "metadata": {},
   "outputs": [],
   "source": [
    "adata.var"
   ]
  },
  {
   "cell_type": "code",
   "execution_count": null,
   "id": "92ce7e83",
   "metadata": {},
   "outputs": [],
   "source": [
    "adataR = sc.read(fileLoc + \"luadAdata.h5ad\")\n",
    "adataR"
   ]
  },
  {
   "cell_type": "code",
   "execution_count": null,
   "id": "a3cbee07",
   "metadata": {},
   "outputs": [],
   "source": [
    "adataR.obs"
   ]
  },
  {
   "cell_type": "code",
   "execution_count": null,
   "id": "edd30f4b",
   "metadata": {},
   "outputs": [],
   "source": []
  }
 ],
 "metadata": {
  "kernelspec": {
   "display_name": "Python 3 (ipykernel)",
   "language": "python",
   "name": "python3"
  },
  "language_info": {
   "codemirror_mode": {
    "name": "ipython",
    "version": 3
   },
   "file_extension": ".py",
   "mimetype": "text/x-python",
   "name": "python",
   "nbconvert_exporter": "python",
   "pygments_lexer": "ipython3",
   "version": "3.8.16"
  }
 },
 "nbformat": 4,
 "nbformat_minor": 5
}
